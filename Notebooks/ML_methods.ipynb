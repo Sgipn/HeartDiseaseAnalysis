{
 "cells": [
  {
   "cell_type": "markdown",
   "id": "d95d9183",
   "metadata": {},
   "source": [
    "## STA160: Midterm Exam"
   ]
  },
  {
   "cell_type": "markdown",
   "id": "f928ac2b",
   "metadata": {},
   "source": [
    "## Heart Disease Health Indicators"
   ]
  },
  {
   "cell_type": "markdown",
   "id": "6a42cf27",
   "metadata": {},
   "source": [
    "### 1. Load Important Libraries"
   ]
  },
  {
   "cell_type": "code",
   "execution_count": null,
   "id": "99d266a8",
   "metadata": {},
   "outputs": [],
   "source": [
    "import numpy as np\n",
    "import pandas as pd\n",
    "import sklearn\n",
    "import time\n",
    "import seaborn as sns\n",
    "import matplotlib.pyplot as plt\n",
    "from matplotlib import style\n",
    "style.use(\"ggplot\")\n",
    "\n",
    "from sklearn.ensemble import ExtraTreesClassifier\n",
    "from sklearn import tree\n",
    "from sklearn.tree import DecisionTreeClassifier\n",
    "\n",
    "from sklearn import preprocessing\n",
    "from sklearn.preprocessing import StandardScaler\n",
    "from sklearn.model_selection import train_test_split\n",
    "from sklearn.decomposition import PCA\n",
    "from sklearn.neighbors import KNeighborsClassifier\n",
    "from sklearn.model_selection import KFold\n",
    "from sklearn.model_selection import cross_val_score\n",
    "from sklearn.discriminant_analysis import LinearDiscriminantAnalysis\n",
    "from sklearn.linear_model import LogisticRegression\n",
    "from sklearn.svm import SVC\n",
    "from sklearn.naive_bayes import GaussianNB\n",
    "\n",
    "\n",
    "from sklearn import metrics\n",
    "from sklearn.metrics import accuracy_score, classification_report, confusion_matrix, plot_confusion_matrix, plot_roc_curve"
   ]
  },
  {
   "cell_type": "markdown",
   "id": "4bc758d7",
   "metadata": {},
   "source": [
    "### 2. Load the Dataset"
   ]
  },
  {
   "cell_type": "code",
   "execution_count": null,
   "id": "a7685271",
   "metadata": {},
   "outputs": [],
   "source": [
    "heart = pd.read_csv(\"/Users/selamawit/Desktop/STA160/Midterm/heart.csv\")"
   ]
  },
  {
   "cell_type": "markdown",
   "id": "52e8ef38",
   "metadata": {},
   "source": [
    "|No| Variable Code | Name | Description |\n",
    "|---| --- | --- | --- |\n",
    "|1 | HeartDiseaseorAttack | Heart Disease or Heart Attack | Respondents who reported having heart disease or heart attack |\n",
    "|2 | HighBP | High Blood Pressure | Patients with high blood pressure |\n",
    "|3 | HighChol | High Cholestrol | Patients with high cholestrol |\n",
    "|4 | CholCheck | Cholestrol Check | Patients who have cholestrol within past five years |\n",
    "|5 | BMI | Body Mass Index | Patients record of Body Mass Index |\n",
    "|6 | Smoker | Smoking | Patients who smoked at least 100 cigarettes in their entire life |\n",
    "|7 | Stroke | Stroke | Patients who had stroke |\n",
    "|8 | Diabetes | Diabetes | Patients who had diabetes |\n",
    "|9 | PhysActivity | Physical Activity | Patients who exercised the past thirty days other than regular job |\n",
    "|10 | DiffWalk | Difficulty Walking | Patients who experience serious difficulty walking or climbing stairs |\n",
    "|11 | Age | Age | fourteen level of age category |"
   ]
  },
  {
   "cell_type": "code",
   "execution_count": null,
   "id": "db52d44e",
   "metadata": {},
   "outputs": [],
   "source": [
    "heart.head()"
   ]
  },
  {
   "cell_type": "code",
   "execution_count": null,
   "id": "1823f986",
   "metadata": {},
   "outputs": [],
   "source": [
    "heart.shape"
   ]
  },
  {
   "cell_type": "markdown",
   "id": "87c6f18f",
   "metadata": {},
   "source": [
    "### 3. Exploratory Data Analysis"
   ]
  },
  {
   "cell_type": "code",
   "execution_count": null,
   "id": "e4e8b711",
   "metadata": {},
   "outputs": [],
   "source": [
    "print('DataFrame after dropping the rows having missing values:', heart.drop_duplicates(inplace=True))\n",
    "print('Original dataframe dimension:', heart.shape)"
   ]
  },
  {
   "cell_type": "code",
   "execution_count": null,
   "id": "d8c9f648",
   "metadata": {},
   "outputs": [],
   "source": [
    "for col in heart.columns:\n",
    "    print(\"{}: {}\".format(col, heart[col].isnull().sum()))"
   ]
  },
  {
   "cell_type": "code",
   "execution_count": null,
   "id": "59c8505b",
   "metadata": {},
   "outputs": [],
   "source": [
    "#significant variables\n",
    "data = heart[[\"HeartDiseaseorAttack\", \"HighBP\", \"HighChol\", \"Smoker\", \"Stroke\",\"Diabetes\", \"PhysActivity\", \"DiffWalk\", \"Age\"]]\n",
    "data.describe()"
   ]
  },
  {
   "cell_type": "code",
   "execution_count": null,
   "id": "b8aa9a03",
   "metadata": {},
   "outputs": [],
   "source": [
    "print(\"Information about the dataset:\")\n",
    "print(data.info())"
   ]
  },
  {
   "cell_type": "code",
   "execution_count": null,
   "id": "2e74699d",
   "metadata": {},
   "outputs": [],
   "source": [
    "data.Age.unique()"
   ]
  },
  {
   "cell_type": "markdown",
   "id": "e2689abb",
   "metadata": {},
   "source": [
    "### 4. Classification Model Building using Cross Validation"
   ]
  },
  {
   "cell_type": "code",
   "execution_count": null,
   "id": "4c95e82f",
   "metadata": {},
   "outputs": [],
   "source": [
    "data1 = data.copy()\n",
    "X = data1.iloc[:,2:]\n",
    "Y = data1[\"HeartDiseaseorAttack\"]\n",
    "print(\"Shape of X design matrix: \", X.shape)\n",
    "print(\"Shape of Y vector: \", Y.shape)\n",
    "\n",
    "X_train, X_test, Y_train, Y_test = train_test_split(X, Y, test_size=0.3, random_state=10, stratify = Y)\n",
    "print(pd.value_counts(Y_train)/len(Y_train))\n",
    "\n",
    "#Scaling for training dataset\n",
    "scaler = StandardScaler()\n",
    "X_train = scaler.fit_transform(X_train)\n",
    "X_test = scaler.transform(X_test)"
   ]
  },
  {
   "cell_type": "code",
   "execution_count": null,
   "id": "7c3d225c",
   "metadata": {},
   "outputs": [],
   "source": [
    "# Compute running time:\n",
    "start = time.time()\n",
    "\n",
    "# Model based on Classification Algorithms\n",
    "model = []\n",
    "model.append(('Linear Discriminant', LinearDiscriminantAnalysis()))\n",
    "model.append(('Logistic Regression', LogisticRegression()))\n",
    "model.append(('KNN', KNeighborsClassifier()))\n",
    "model.append(('Support Vector Machine', SVC()))\n",
    "model.append(('Naive Bayes', GaussianNB()))\n",
    "model.append(('Decision Tree', DecisionTreeClassifier(criterion = \"entropy\", random_state = 100, max_depth = 2, min_samples_leaf = 5)\n",
    "))\n",
    "\n",
    "# Model Evaluation\n",
    "results = []\n",
    "names = []\n",
    "\n",
    "for n, m in model:\n",
    "    kfold = KFold(n_splits=10, random_state=None)\n",
    "    cross_val = cross_val_score(m, X_train, Y_train, cv = kfold, scoring = \"accuracy\")\n",
    "    results.append(cross_val)\n",
    "    names.append(n)\n",
    "    print(\"The estimated accuracy score for\", n, \":\")\n",
    "    print(cross_val)    \n",
    "    print(n, \":\", \"%0.2f accuracy with a standard deviation of %0.2f\" % (cross_val.mean(), cross_val.std()))\n",
    "                      \n",
    "end = time.time()\n",
    "print(\"Computation running time: \", round((end - start)/60,2), \"secs.\")"
   ]
  },
  {
   "cell_type": "markdown",
   "id": "066de545",
   "metadata": {},
   "source": [
    "### 6. Classification Model Evaluation Metrics"
   ]
  },
  {
   "cell_type": "markdown",
   "id": "928e9e03",
   "metadata": {},
   "source": [
    "<div class=\"alert-success\">\n",
    "1. Confusion Matrix \n",
    "</div>"
   ]
  },
  {
   "cell_type": "markdown",
   "id": "8e224563",
   "metadata": {},
   "source": [
    "### (i) Linear Discriminant Analysis"
   ]
  },
  {
   "cell_type": "code",
   "execution_count": null,
   "id": "2beba542",
   "metadata": {},
   "outputs": [],
   "source": [
    "start = time.time()\n",
    "\n",
    "### Build and train model\n",
    "lda = LinearDiscriminantAnalysis()\n",
    "lda.fit(X_train, Y_train).transform(X_train)\n",
    "print(\"LDA model correctly predicts whether a patient has heart disease attack or not about\",round(lda.score(X_train, Y_train)*100, 2), \"% of the time.\")\n",
    "\n",
    "### Check performance of our classifier\n",
    "print('Accuracy for training set for LDA = {}'.format((round(confusion_matrix(Y_train, lda.predict(X_train))[0][0] + confusion_matrix(Y_train, lda.predict(X_train))[1][1])/len(Y_train))*100,2))\n",
    "print(confusion_matrix(Y_train, lda.predict(X_train)))\n",
    "Yhat1 = lda.predict(X_test)\n",
    "print('Accuracy for test set for LDA = {}'.format((round(confusion_matrix(Y_test, Yhat1)[0][0] + confusion_matrix(Y_test, Yhat1)[1][1])/len(Y_test))*100,2))\n",
    "print(confusion_matrix(Y_test, Yhat1))\n",
    "\n",
    "### Plot confusion\n",
    "plot_confusion_matrix(estimator=lda,\n",
    "                      X = X_test,\n",
    "                      y_true = Y_test,\n",
    "                      display_labels=[\"No Disease/Attack\", \"Yes Disease/Attack\"], cmap = \"Pastel1_r\")\n",
    "\n",
    "### Computation time\n",
    "end = time.time()\n",
    "print(\"Computation running time: \", round((end - start)/60,2), \"secs.\")"
   ]
  },
  {
   "cell_type": "markdown",
   "id": "87073f50",
   "metadata": {},
   "source": [
    "### (ii) Logistic Regression"
   ]
  },
  {
   "cell_type": "code",
   "execution_count": null,
   "id": "a643b5b7",
   "metadata": {},
   "outputs": [],
   "source": [
    "start = time.time()\n",
    "### Build and train model\n",
    "logR = LogisticRegression(penalty = \"none\")\n",
    "logR.fit(X_train, Y_train)   \n",
    "print(\"Logistic Regression model correctly predicts whether a patient has heart disease attack or not about\",round(logR.score(X_train, Y_train)*100, 2), \"%.\")\n",
    "\n",
    "### Check performance of classifier\n",
    "Yhat2 = logR.predict(X_test) #predicts label\n",
    "# print('Accuracy for training set for Logistic Regression = {}'.format(\n",
    "#     (round(confusion_matrix(Y_train, logR.predict(X_train))[0][0] + confusion_matrix(Y_train, logR.predict(X_train))[1][1])/len(Y_train))*100,2))\n",
    "# print(confusion_matrix(Y_train, logR.predict(X_train)))\n",
    "print('Accuracy for test set for Logistic Regression = {}'.format(\n",
    "    (round(confusion_matrix(Y_test, Yhat2)[0][0] + confusion_matrix(Y_test, Yhat2)[1][1])/len(Y_test))*100,2))\n",
    "print(confusion_matrix(Y_test, Yhat2))\n",
    "\n",
    "### Plot confusion matrix\n",
    "plot_confusion_matrix(estimator=logR,\n",
    "                      X = X_test,\n",
    "                      y_true = Y_test,\n",
    "                      display_labels=[\"No Disease/Attack\", \"Yes Disease/Attack\"], cmap = \"Pastel1_r\")\n",
    "\n",
    "### Computation time\n",
    "end = time.time()\n",
    "print(\"Computation running time: \", round((end - start)/60,2), \"secs.\")"
   ]
  },
  {
   "cell_type": "markdown",
   "id": "5bd32320",
   "metadata": {},
   "source": [
    "### (iii) Decision Tree"
   ]
  },
  {
   "cell_type": "code",
   "execution_count": null,
   "id": "19780dad",
   "metadata": {},
   "outputs": [],
   "source": [
    "start = time.time()\n",
    "\n",
    "###############################\n",
    "### Build and train model\n",
    "clf_entropy = DecisionTreeClassifier(criterion = \"entropy\", random_state = 100, max_depth = 2, min_samples_leaf = 5)\n",
    "Yhat_e = clf_entropy.fit(X_train, Y_train)\n",
    "\n",
    "### Check performance of classifier\n",
    "Y_pred_e = Yhat_e.predict(X_test)\n",
    "print('Accuracy for test set for Decision Tree = {}'.format(\n",
    "    (round(confusion_matrix(Y_test, Y_pred_e)[0][0] + confusion_matrix(Y_test, Y_pred_e)[1][1])/len(Y_test))*100,2))\n",
    "print(confusion_matrix(Y_test, Y_pred_e))\n",
    "\n",
    "### Plot confusion matrix\n",
    "plot_confusion_matrix(estimator=clf_entropy,\n",
    "                      X = X_test,\n",
    "                      y_true = Y_test,\n",
    "                      display_labels=[\"No Disease/Attack\", \"Yes Disease/Attack\"], cmap = \"Pastel1_r\")\n",
    "\n",
    "### Computation time\n",
    "end = time.time()\n",
    "print(\"Computation running time: \", round((end - start)/60,2), \"secs.\")"
   ]
  },
  {
   "cell_type": "markdown",
   "id": "cdabdc32",
   "metadata": {},
   "source": [
    "### (iv) Support Vector Machine"
   ]
  },
  {
   "cell_type": "code",
   "execution_count": null,
   "id": "b5ccc8cd",
   "metadata": {},
   "outputs": [],
   "source": [
    "start = time.time()\n",
    "\n",
    "###############################\n",
    "### Build and train model\n",
    "classifier = SVC(kernel = 'linear') \n",
    "classifier.fit(X_train, Y_train)   \n",
    "print(\"SVM model correctly predicts whether a patient has heart disease attack or not about\", classifier.score(X_train, Y_train), \"%.\")\n",
    "\n",
    "### Check performance of classifier\n",
    "# print('Accuracy for training set for svm = {}'.format(\n",
    "#     (confusion_matrix(Y_train, classifier.predict(X_train))[0][0] + confusion_matrix(Y_train, classifier.predict(X_train))[1][1])/len(Y_train)))\n",
    "# print(confusion_matrix(Y_train, classifier.predict(X_train)))\n",
    "Yhat3 = classifier.predict(X_test) #predict Yhat\n",
    "print('Accuracy for test set for svm = {}'.format(\n",
    "    (confusion_matrix(Y_test, Yhat3)[0][0] + confusion_matrix(Y_test, Yhat2)[1][1])/len(Y_test)))\n",
    "print(confusion_matrix(Y_test, Yhat3))\n",
    "\n",
    "### Plot confusion matrix\n",
    "plot_confusion_matrix(estimator=classifier,\n",
    "                      X = X_test,\n",
    "                      y_true = Y_test,\n",
    "                      display_labels=[\"No Disease/Attack\", \"Yes Disease/Attack\"], cmap = \"Pastel1_r\")\n",
    "\n",
    "### Computation time\n",
    "end = time.time()\n",
    "print(\"Computation running time: \", round((end - start)/60,2), \"secs.\")"
   ]
  },
  {
   "cell_type": "markdown",
   "id": "99853adf",
   "metadata": {},
   "source": [
    "Although SVM have relatively good accuracy score, the running time is long."
   ]
  },
  {
   "cell_type": "markdown",
   "id": "8f53e185",
   "metadata": {},
   "source": [
    "<div class=\"alert-success\">\n",
    "2. Classification Report\n",
    "</div>"
   ]
  },
  {
   "cell_type": "markdown",
   "id": "d87d95a3",
   "metadata": {},
   "source": [
    "### (i) Linear Discriminant"
   ]
  },
  {
   "cell_type": "code",
   "execution_count": null,
   "id": "a85c7f13",
   "metadata": {},
   "outputs": [],
   "source": [
    "print(classification_report(y_true = Y_test,y_pred = lda.predict(X_test), target_names=[\"No Disease/Attack\", \"Yes Disease/Attack\"]))"
   ]
  },
  {
   "cell_type": "markdown",
   "id": "3e992b33",
   "metadata": {},
   "source": [
    "### (ii) Logistic Regression"
   ]
  },
  {
   "cell_type": "code",
   "execution_count": null,
   "id": "114f0a30",
   "metadata": {},
   "outputs": [],
   "source": [
    "print(classification_report(y_true = Y_test,y_pred = Yhat2, target_names=[\"No Disease/Attack\", \"Yes Disease/Attack\"]))"
   ]
  },
  {
   "cell_type": "markdown",
   "id": "b4f175a3",
   "metadata": {},
   "source": [
    "### (iii) Decision Tree"
   ]
  },
  {
   "cell_type": "code",
   "execution_count": null,
   "id": "2d1d56be",
   "metadata": {},
   "outputs": [],
   "source": [
    "print(classification_report(Y_test, Y_pred_e, target_names=[\"No Disease/Attack\", \"Yes Disease/Attack\"]))"
   ]
  },
  {
   "cell_type": "markdown",
   "id": "2e9e5b6b",
   "metadata": {},
   "source": [
    "Both FN and TN being 0 is because of the class inbalance we have from the data."
   ]
  },
  {
   "cell_type": "markdown",
   "id": "25738d68",
   "metadata": {},
   "source": [
    "### (iv) Support Vector Machine"
   ]
  },
  {
   "cell_type": "code",
   "execution_count": null,
   "id": "fcabd1f6",
   "metadata": {},
   "outputs": [],
   "source": [
    "print(classification_report(y_true = Y_test,y_pred = Yhat3, target_names=[\"No Disease/Attack\", \"Yes Disease/Attack\"]))"
   ]
  },
  {
   "cell_type": "markdown",
   "id": "1a0f87de",
   "metadata": {},
   "source": [
    "Both FN and TN being 0 is because of the class inbalance we have from the data."
   ]
  },
  {
   "cell_type": "markdown",
   "id": "715d82cc",
   "metadata": {},
   "source": [
    "<div class=\"alert-success\">\n",
    "3. Comparison of Classifiers using ROC curve\n",
    "</div>"
   ]
  },
  {
   "cell_type": "code",
   "execution_count": null,
   "id": "78ac78b6",
   "metadata": {},
   "outputs": [],
   "source": [
    "roc_lda = plot_roc_curve(estimator=lda, X=X_train, y = Y_train)\n",
    "roc_log_reg = plot_roc_curve(estimator=logR, X = X_train, y = Y_train, ax = roc_lda.ax_)\n",
    "roc_log_reg = plot_roc_curve(estimator=clf_entropy, X = X_train, y = Y_train, ax = roc_lda.ax_)\n",
    "roc_log_reg = plot_roc_curve(estimator=classifier, X = X_train, y = Y_train, ax = roc_lda.ax_)\n",
    "plt.title(\"ROC Curve Comparison\")\n",
    "plt.show()"
   ]
  },
  {
   "cell_type": "markdown",
   "id": "276acc4c",
   "metadata": {},
   "source": [
    "Both LDA and Logistic classifiers are close to 1 indicating they are perfect classifier for all threshold values. "
   ]
  },
  {
   "cell_type": "markdown",
   "id": "0ac70922",
   "metadata": {},
   "source": [
    "### 7. Reference:"
   ]
  },
  {
   "cell_type": "markdown",
   "id": "f2ff215f",
   "metadata": {},
   "source": [
    "https://www.kaggle.com/datasets/alexteboul/heart-disease-health-indicators-dataset"
   ]
  }
 ],
 "metadata": {
  "kernelspec": {
   "display_name": "Python 3 (ipykernel)",
   "language": "python",
   "name": "python3"
  },
  "language_info": {
   "codemirror_mode": {
    "name": "ipython",
    "version": 3
   },
   "file_extension": ".py",
   "mimetype": "text/x-python",
   "name": "python",
   "nbconvert_exporter": "python",
   "pygments_lexer": "ipython3",
   "version": "3.9.7"
  }
 },
 "nbformat": 4,
 "nbformat_minor": 5
}
